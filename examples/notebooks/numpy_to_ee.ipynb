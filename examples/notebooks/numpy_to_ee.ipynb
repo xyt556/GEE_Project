{
 "cells": [
  {
   "cell_type": "markdown",
   "metadata": {},
   "source": [
    "Uncomment the following line to install [geemap](https://geemap.org) if needed."
   ]
  },
  {
   "cell_type": "code",
   "execution_count": null,
   "metadata": {},
   "outputs": [],
   "source": [
    "# !pip install geemap"
   ]
  },
  {
   "cell_type": "code",
   "execution_count": null,
   "metadata": {},
   "outputs": [],
   "source": [
    "import geemap\n",
    "import ee\n",
    "ee.Initialize()"
   ]
  },
  {
   "cell_type": "code",
   "execution_count": null,
   "metadata": {},
   "outputs": [],
   "source": [
    "import numpy as np\n",
    "band1 =  np.array([[0, 1, 2, 3],\n",
    "  [4, 5, 6, 7],\n",
    "  [8, 9, 10, 11]])\n",
    "band2 = np.array([[1, 1, 1, 1],\n",
    "  [2, 2, 2, 2],\n",
    "  [3, 3, 3, 3]])\n",
    "band3 = np.array([[3, 3, 3, 3],\n",
    "  [2, 2, 2, 2],\n",
    "  [1, 1, 1, 1]])\n",
    "data = np.dstack([band1,band2,band3])"
   ]
  },
  {
   "cell_type": "code",
   "execution_count": null,
   "metadata": {},
   "outputs": [],
   "source": [
    "# Test bad input\n",
    "img = geemap.numpy_to_ee(1)"
   ]
  },
  {
   "cell_type": "code",
   "execution_count": null,
   "metadata": {},
   "outputs": [],
   "source": [
    "# Test with only one band:\n",
    "img = geemap.numpy_to_ee(band1,crs='EPSG:4326', transform=[14.5, 0, -125, 0, -8, 49], band_names='a')\n",
    "# Test with multiple bands:\n",
    "img_multi = geemap.numpy_to_ee(data,crs='EPSG:4326', transform=[14.5, 0, -125, 0, -8, 49],band_names=['a','b','c'])"
   ]
  },
  {
   "cell_type": "code",
   "execution_count": null,
   "metadata": {},
   "outputs": [],
   "source": [
    "# Add images to a map\n",
    "Map = geemap.Map()\n",
    "Map.addLayer(img, {'min':0, 'max':11})\n",
    "Map.addLayer(img_multi, {'min':0, 'max':11, 'bands':['a','b','c']})\n",
    "Map"
   ]
  }
 ],
 "metadata": {
  "kernelspec": {
   "display_name": "geemap",
   "language": "python",
   "name": "geemap"
  },
  "language_info": {
   "codemirror_mode": {
    "name": "ipython",
    "version": 3
   },
   "file_extension": ".py",
   "mimetype": "text/x-python",
   "name": "python",
   "nbconvert_exporter": "python",
   "pygments_lexer": "ipython3",
   "version": "3.9.1"
  }
 },
 "nbformat": 4,
 "nbformat_minor": 2
}
